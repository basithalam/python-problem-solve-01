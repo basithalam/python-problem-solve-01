{
 "cells": [
  {
   "cell_type": "markdown",
   "id": "3a74d825",
   "metadata": {},
   "source": [
    "Studen Name: Md Sah Alam Basith,\n",
    "Email: md.basithalam@gmail.com,\n",
    "Mob: +8801748157992,"
   ]
  },
  {
   "cell_type": "markdown",
   "id": "53c62187",
   "metadata": {},
   "source": [
    "# Python Conditions:"
   ]
  },
  {
   "cell_type": "markdown",
   "id": "e52fe36a",
   "metadata": {},
   "source": [
    "1. Take values of the length & breadth of a rectangle from user input and check if it is square or not."
   ]
  },
  {
   "cell_type": "code",
   "execution_count": 11,
   "id": "f9c06791",
   "metadata": {},
   "outputs": [
    {
     "name": "stdout",
     "output_type": "stream",
     "text": [
      "Enter the length number: 10\n",
      "Enter the breadth number: 10\n",
      "It is a Square number\n"
     ]
    }
   ],
   "source": [
    "length = int(input(\"Enter the length number: \"))\n",
    "breadth = int(input(\"Enter the breadth number: \"))\n",
    "if length==breadth:\n",
    "        print(\"It is a Square number\")\n",
    "else: \n",
    "        print(\"it is not a Square number\")\n"
   ]
  },
  {
   "cell_type": "markdown",
   "id": "9c4a3361",
   "metadata": {},
   "source": [
    "2. Take three integer values from the user and print the greatest among them."
   ]
  },
  {
   "cell_type": "code",
   "execution_count": 12,
   "id": "736229ab",
   "metadata": {},
   "outputs": [
    {
     "name": "stdout",
     "output_type": "stream",
     "text": [
      "Enter the number 1: 1\n",
      "Enter the number 2: 2\n",
      "Enter the number 3: 3\n",
      "Among number of 1, 2 and 3 between 3 the Greatest number.\n"
     ]
    }
   ],
   "source": [
    "N1 = int(input(\"Enter the number 1: \"))\n",
    "N2 = int(input(\"Enter the number 2: \"))\n",
    "N3 = int(input(\"Enter the number 3: \"))\n",
    "if N1 > N2 and N1 >N3:\n",
    "    greatest = N1\n",
    "elif N2 > N1 and N2 > N3:\n",
    "    greatest = N2\n",
    "else:\n",
    "    greatest =N3\n",
    "\n",
    "print(\"Among number of {}, {} and {} between {} the Greatest number.\".format(N1,N2,N3,greatest))\n",
    "    "
   ]
  },
  {
   "cell_type": "markdown",
   "id": "50e5fa83",
   "metadata": {},
   "source": [
    "3. A student will not be allowed to sit in an exam if his/her attendance is less than 75%."
   ]
  },
  {
   "cell_type": "code",
   "execution_count": 13,
   "id": "938a53c8",
   "metadata": {},
   "outputs": [
    {
     "name": "stdout",
     "output_type": "stream",
     "text": [
      "Number of classes held: 30\n",
      "Number of classes attendance: 1\n",
      "Percentage of class attendance:  3.3333333333333335\n",
      "Opps! We are sorry for not allowed you.\n"
     ]
    }
   ],
   "source": [
    "held = int(input(\"Number of classes held: \"))\n",
    "attnd = int(input(\"Number of classes attendance: \"))\n",
    "\n",
    "percentage= (attnd/held*100)\n",
    "print(\"Percentage of class attendance: \", percentage)\n",
    "\n",
    "if (percentage < 75):\n",
    "    print(\"Opps! We are sorry for not allowed you.\")\n",
    "else:\n",
    "    print(\"Congratulation! you are allowed for exam sit.\")"
   ]
  },
  {
   "cell_type": "markdown",
   "id": "3038883f",
   "metadata": {},
   "source": [
    "A school has the following rules for the grading system:\n",
    "Below 25 – F, 25 to 44 – E, 45 to 49 – D, 50 to 59 – C, 60 to 79 – B, 80 to 89 - A, Above 90 - A+\n",
    "Now, Ask the user to enter marks and print the corresponding grade."
   ]
  },
  {
   "cell_type": "code",
   "execution_count": 14,
   "id": "4e23e8d6",
   "metadata": {},
   "outputs": [
    {
     "name": "stdout",
     "output_type": "stream",
     "text": [
      "Enter obtain marks : 80\n",
      " Grade A\n"
     ]
    }
   ],
   "source": [
    "grade=int(input(\"Enter obtain marks : \"))\n",
    "\n",
    "if(grade<25):\n",
    "    print(\" Grade F\")\n",
    "elif(grade>=25 and grade<45):\n",
    "    print(\" Grade E\")\n",
    "elif(grade>=45 and grade<50):\n",
    "    print(\" Grade D\")\n",
    "elif(grade>=50 and grade<60):\n",
    "    print(\" Grade C\")\n",
    "elif(grade>=60 and grade<80):\n",
    "    print(\" Grade B\")\n",
    "elif(grade>=80 and grade<90):\n",
    "    print(\" Grade A\")\n",
    "elif(grade>=90):\n",
    "    print(\" Grade A+\")"
   ]
  },
  {
   "cell_type": "markdown",
   "id": "20a84610",
   "metadata": {},
   "source": [
    "5. Print the following pattern using for and while loop.\n",
    "1 2 3 4 5 6 7\n",
    "1 2 3 4 5 6\n",
    "1 2 3 4 5\n",
    "1 2 3 4"
   ]
  },
  {
   "cell_type": "code",
   "execution_count": 18,
   "id": "aac4f1b4",
   "metadata": {},
   "outputs": [
    {
     "name": "stdout",
     "output_type": "stream",
     "text": [
      "1 \n",
      "1 2 \n",
      "1 2 3 \n",
      "1 2 3 4 \n",
      "1 2 3 4 5 \n",
      "1 2 3 4 5 6 \n",
      "1 2 3 4 5 6 7 \n"
     ]
    }
   ],
   "source": [
    "n=7\n",
    "i=1\n",
    "\n",
    "while(i<=n):\n",
    "    j=1\n",
    "    while(j<=i):\n",
    "        print(j, end=\" \")\n",
    "        j+=1\n",
    "    print()\n",
    "    i+=1"
   ]
  },
  {
   "cell_type": "markdown",
   "id": "30b2781b",
   "metadata": {},
   "source": [
    "6. Display numbers from -100 to -10 using for loop."
   ]
  },
  {
   "cell_type": "code",
   "execution_count": 1,
   "id": "f240d85e",
   "metadata": {},
   "outputs": [
    {
     "name": "stdout",
     "output_type": "stream",
     "text": [
      "-100\n",
      "-99\n",
      "-98\n",
      "-97\n",
      "-96\n",
      "-95\n",
      "-94\n",
      "-93\n",
      "-92\n",
      "-91\n",
      "-90\n",
      "-89\n",
      "-88\n",
      "-87\n",
      "-86\n",
      "-85\n",
      "-84\n",
      "-83\n",
      "-82\n",
      "-81\n",
      "-80\n",
      "-79\n",
      "-78\n",
      "-77\n",
      "-76\n",
      "-75\n",
      "-74\n",
      "-73\n",
      "-72\n",
      "-71\n",
      "-70\n",
      "-69\n",
      "-68\n",
      "-67\n",
      "-66\n",
      "-65\n",
      "-64\n",
      "-63\n",
      "-62\n",
      "-61\n",
      "-60\n",
      "-59\n",
      "-58\n",
      "-57\n",
      "-56\n",
      "-55\n",
      "-54\n",
      "-53\n",
      "-52\n",
      "-51\n",
      "-50\n",
      "-49\n",
      "-48\n",
      "-47\n",
      "-46\n",
      "-45\n",
      "-44\n",
      "-43\n",
      "-42\n",
      "-41\n",
      "-40\n",
      "-39\n",
      "-38\n",
      "-37\n",
      "-36\n",
      "-35\n",
      "-34\n",
      "-33\n",
      "-32\n",
      "-31\n",
      "-30\n",
      "-29\n",
      "-28\n",
      "-27\n",
      "-26\n",
      "-25\n",
      "-24\n",
      "-23\n",
      "-22\n",
      "-21\n",
      "-20\n",
      "-19\n",
      "-18\n",
      "-17\n",
      "-16\n",
      "-15\n",
      "-14\n",
      "-13\n",
      "-12\n",
      "-11\n",
      "-10\n"
     ]
    }
   ],
   "source": [
    "for i in range (-100,-9):\n",
    "    print(i)"
   ]
  },
  {
   "cell_type": "markdown",
   "id": "9a60b59e",
   "metadata": {},
   "source": [
    "7. Write a program to sum all prime numbers within a range of 10 to 1000."
   ]
  },
  {
   "cell_type": "code",
   "execution_count": 2,
   "id": "37e46320",
   "metadata": {},
   "outputs": [
    {
     "name": "stdout",
     "output_type": "stream",
     "text": [
      "Check the below Prime Numbers...\n",
      "11  \n",
      "13  \n",
      "17  \n",
      "19  \n",
      "23  \n",
      "29  \n",
      "31  \n",
      "37  \n",
      "41  \n",
      "43  \n",
      "47  \n",
      "53  \n",
      "59  \n",
      "61  \n",
      "67  \n",
      "71  \n",
      "73  \n",
      "79  \n",
      "83  \n",
      "89  \n",
      "97  \n",
      "101  \n",
      "103  \n",
      "107  \n",
      "109  \n",
      "113  \n",
      "127  \n",
      "131  \n",
      "137  \n",
      "139  \n",
      "149  \n",
      "151  \n",
      "157  \n",
      "163  \n",
      "167  \n",
      "173  \n",
      "179  \n",
      "181  \n",
      "191  \n",
      "193  \n",
      "197  \n",
      "199  \n",
      "211  \n",
      "223  \n",
      "227  \n",
      "229  \n",
      "233  \n",
      "239  \n",
      "241  \n",
      "251  \n",
      "257  \n",
      "263  \n",
      "269  \n",
      "271  \n",
      "277  \n",
      "281  \n",
      "283  \n",
      "293  \n",
      "307  \n",
      "311  \n",
      "313  \n",
      "317  \n",
      "331  \n",
      "337  \n",
      "347  \n",
      "349  \n",
      "353  \n",
      "359  \n",
      "367  \n",
      "373  \n",
      "379  \n",
      "383  \n",
      "389  \n",
      "397  \n",
      "401  \n",
      "409  \n",
      "419  \n",
      "421  \n",
      "431  \n",
      "433  \n",
      "439  \n",
      "443  \n",
      "449  \n",
      "457  \n",
      "461  \n",
      "463  \n",
      "467  \n",
      "479  \n",
      "487  \n",
      "491  \n",
      "499  \n",
      "503  \n",
      "509  \n",
      "521  \n",
      "523  \n",
      "541  \n",
      "547  \n",
      "557  \n",
      "563  \n",
      "569  \n",
      "571  \n",
      "577  \n",
      "587  \n",
      "593  \n",
      "599  \n",
      "601  \n",
      "607  \n",
      "613  \n",
      "617  \n",
      "619  \n",
      "631  \n",
      "641  \n",
      "643  \n",
      "647  \n",
      "653  \n",
      "659  \n",
      "661  \n",
      "673  \n",
      "677  \n",
      "683  \n",
      "691  \n",
      "701  \n",
      "709  \n",
      "719  \n",
      "727  \n",
      "733  \n",
      "739  \n",
      "743  \n",
      "751  \n",
      "757  \n",
      "761  \n",
      "769  \n",
      "773  \n",
      "787  \n",
      "797  \n",
      "809  \n",
      "811  \n",
      "821  \n",
      "823  \n",
      "827  \n",
      "829  \n",
      "839  \n",
      "853  \n",
      "857  \n",
      "859  \n",
      "863  \n",
      "877  \n",
      "881  \n",
      "883  \n",
      "887  \n",
      "907  \n",
      "911  \n",
      "919  \n",
      "929  \n",
      "937  \n",
      "941  \n",
      "947  \n",
      "953  \n",
      "967  \n",
      "971  \n",
      "977  \n",
      "983  \n",
      "991  \n",
      "997  \n",
      "Sum of all prime numbers in the range[10, 1000] is 76110\n"
     ]
    }
   ],
   "source": [
    "def findPrime(p):\n",
    "  t=int(p/2)\n",
    "  for s in range(2, t+1):\n",
    "    if p%s == 0:\n",
    "      return 0;\n",
    "  return 1\n",
    "\n",
    "\n",
    "def findSum(a, b):\n",
    "  a=int(a)\n",
    "  b=int(b)\n",
    "  print(\"Check the below Prime Numbers...\")\n",
    "  sum=0\n",
    "  for i in range(a, b+1):\n",
    "    x=findPrime(i)\n",
    "    if x==1:\n",
    "      sum=sum+i\n",
    "      print(str(i)+\"  \")\n",
    "  print(\"Sum of all prime numbers in the range[\"+str(a)+\", \"+str(b)+\"] is \"+str(sum))\n",
    "\n",
    "#input(\"Enter the upper limit of the range: \")\n",
    "\n",
    "x=10 \n",
    "y=1000 \n",
    "findSum(x,y)\n"
   ]
  },
  {
   "cell_type": "markdown",
   "id": "33d018ad",
   "metadata": {},
   "source": [
    "8. Find the factorial of an n! (Hint, n=7: 7*6*5*4*3*2*1)."
   ]
  },
  {
   "cell_type": "code",
   "execution_count": 10,
   "id": "9921c1c7",
   "metadata": {},
   "outputs": [
    {
     "name": "stdout",
     "output_type": "stream",
     "text": [
      "The factorial of 7 is 5040\n"
     ]
    }
   ],
   "source": [
    "n = 7\n",
    "factorial = 1\n",
    "if num < 0:\n",
    "   print(\"Sorry, factorial does not exist for negative numbers\")\n",
    "elif num == 0:\n",
    "   print(\"The factorial of 0 is 1\")\n",
    "else:\n",
    "   for i in range(1,n + 1):\n",
    "       factorial = factorial*i\n",
    "   print(\"The factorial of\",n,\"is\",factorial)"
   ]
  },
  {
   "cell_type": "markdown",
   "id": "bbb889f0",
   "metadata": {},
   "source": [
    "9. Reverse a given integer number 27956240710."
   ]
  },
  {
   "cell_type": "code",
   "execution_count": 14,
   "id": "d6dad2a2",
   "metadata": {},
   "outputs": [
    {
     "name": "stdout",
     "output_type": "stream",
     "text": [
      "Reversed Number: 1704265972\n"
     ]
    }
   ],
   "source": [
    "num = 27956240710\n",
    "reversed_num = 0\n",
    "\n",
    "while num != 0:\n",
    "    digit = num % 10\n",
    "    reversed_num = reversed_num * 10 + digit\n",
    "    num //= 10\n",
    "\n",
    "print(\"Reversed Number: \" + str(reversed_num))"
   ]
  },
  {
   "cell_type": "markdown",
   "id": "c1cff13e",
   "metadata": {},
   "source": [
    "10. Print the following pattern using for and while loop."
   ]
  },
  {
   "cell_type": "code",
   "execution_count": 19,
   "id": "cb5c2602",
   "metadata": {},
   "outputs": [
    {
     "name": "stdout",
     "output_type": "stream",
     "text": [
      "# # # \n",
      "# # # # \n",
      "# # # \n",
      "# # \n",
      "# \n"
     ]
    }
   ],
   "source": [
    "def pattern(n):\n",
    "   # print upper triangle\n",
    "   i = 3\n",
    "   while i<n:\n",
    "      # printing stars\n",
    "      print(\"# \" * i)\n",
    "      i+=1\n",
    "\n",
    "   # print lower triangle\n",
    "   i = n\n",
    "   while i>=1:\n",
    "      # printing stars\n",
    "      print(\"# \" * i)\n",
    "      i-=1\n",
    "\n",
    "n = 4\n",
    "\n",
    "pattern(n)\n"
   ]
  },
  {
   "cell_type": "markdown",
   "id": "cc541f32",
   "metadata": {},
   "source": [
    "11. Display the Fibonacci series of 15 elements using the for and while loop."
   ]
  },
  {
   "cell_type": "code",
   "execution_count": 21,
   "id": "2304e2d2",
   "metadata": {},
   "outputs": [
    {
     "name": "stdout",
     "output_type": "stream",
     "text": [
      "Fibonacci elements:\n",
      "0\n",
      "1\n",
      "1\n",
      "2\n",
      "3\n",
      "5\n",
      "8\n",
      "13\n",
      "21\n",
      "34\n",
      "55\n",
      "89\n",
      "144\n",
      "233\n",
      "377\n"
     ]
    }
   ],
   "source": [
    "nterms = 15\n",
    "\n",
    "n1, n2 = 0, 1\n",
    "count = 0\n",
    "\n",
    "\n",
    "if nterms <= 0:\n",
    "   print(\"Please enter a positive integer\")\n",
    "\n",
    "elif nterms == 1:\n",
    "   print(\"Fibonacci sequence upto\",nterms,\":\")\n",
    "   print(n1)\n",
    "\n",
    "else:\n",
    "   print(\"Fibonacci elements:\")\n",
    "   while count < nterms:\n",
    "       print(n1)\n",
    "       nth = n1 + n2\n",
    "\n",
    "       n1 = n2\n",
    "       n2 = nth\n",
    "       count += 1\n"
   ]
  },
  {
   "cell_type": "markdown",
   "id": "4a0aa705",
   "metadata": {},
   "source": [
    "12. Remove 2 and add 3 to the list and replace True with False.\n",
    "Li = [1,3,5, [2,3], True]\n",
    "Output = [1,3,5, [3,3], False]"
   ]
  },
  {
   "cell_type": "code",
   "execution_count": 15,
   "id": "07bf0529",
   "metadata": {},
   "outputs": [
    {
     "name": "stdout",
     "output_type": "stream",
     "text": [
      "[1, 3, 5, [3, 3], 'False']\n"
     ]
    }
   ],
   "source": [
    "Li = [1,3,5, [2,3], \"True\"]\n",
    "\n",
    "for i in range(len(Li)):\n",
    "\n",
    "    if Li[i] == [2,3]:\n",
    "        Li[i] = [3,3]\n",
    "\n",
    "    if Li[i] == \"True\":\n",
    "        Li[i] = \"False\"\n",
    "\n",
    "print(Li)\n"
   ]
  },
  {
   "cell_type": "markdown",
   "id": "cb6fa88d",
   "metadata": {},
   "source": [
    "13. Find the intersection (common) of two sets.\n",
    "S1 = {1,4,6,8}\n",
    "S2 = {True, 1,2,10}"
   ]
  },
  {
   "cell_type": "code",
   "execution_count": 23,
   "id": "be58b5ad",
   "metadata": {},
   "outputs": [
    {
     "name": "stdout",
     "output_type": "stream",
     "text": [
      "{1}\n"
     ]
    }
   ],
   "source": [
    "S1 = {1,4,6,8}\n",
    "S2 = {\"True\", 1,2,10}\n",
    "\n",
    "print(S1 & S2)\n"
   ]
  },
  {
   "cell_type": "markdown",
   "id": "1c9c870b",
   "metadata": {},
   "source": [
    "14. Input a list from the user then Remove duplicates from a list and create a set and find the max\n",
    "number. User_input = [1,9,3,4,5,200,54]"
   ]
  },
  {
   "cell_type": "code",
   "execution_count": 32,
   "id": "40c62c8b",
   "metadata": {},
   "outputs": [
    {
     "name": "stdout",
     "output_type": "stream",
     "text": [
      "[1, 9, 3, 4, 5, 200, 54]\n"
     ]
    }
   ],
   "source": [
    "def Remove(duplicate):\n",
    "    final_list = []\n",
    "    for num in duplicate:\n",
    "        if num not in final_list:\n",
    "            final_list.append(num)\n",
    "    return final_list\n",
    "\n",
    "duplicate = [1,9,3,4,5,200,54]\n",
    "\n",
    "print(Remove(duplicate))"
   ]
  },
  {
   "cell_type": "markdown",
   "id": "21e911a2",
   "metadata": {},
   "source": [
    "15. Rename the key of a dictionary.\n",
    "Dict = { \"name\": \"Shakil\", \"age\":27, \"city\": “Berlin”, \"country\": \"Germany\" }\n",
    "Write a program to rename a key ‘country’ to a ‘region’ in the following dictionary."
   ]
  },
  {
   "cell_type": "code",
   "execution_count": 1,
   "id": "61e22020",
   "metadata": {},
   "outputs": [
    {
     "name": "stdout",
     "output_type": "stream",
     "text": [
      "{'Name': 'Shakil', 'Age': 27, 'City': 'Berlin', 'Region': 'Germany'}\n"
     ]
    }
   ],
   "source": [
    "dict_info = {\n",
    "    \"Name\": \"Shakil\",\n",
    "    \"Age\" : 27,\n",
    "    \"City\": \"Berlin\",\n",
    "    \"Country\": \"Germany\"\n",
    "}\n",
    "\n",
    "dict_info[\"Region\"] = dict_info.pop(\"Country\")\n",
    "\n",
    "print(dict_info)\n"
   ]
  },
  {
   "cell_type": "markdown",
   "id": "d860e5f6",
   "metadata": {},
   "source": [
    "16. Creating a data frame using the list.\n",
    "num = [10,100,300] (column name is number)"
   ]
  },
  {
   "cell_type": "code",
   "execution_count": 9,
   "id": "4f6fdb55",
   "metadata": {},
   "outputs": [
    {
     "data": {
      "text/html": [
       "<div>\n",
       "<style scoped>\n",
       "    .dataframe tbody tr th:only-of-type {\n",
       "        vertical-align: middle;\n",
       "    }\n",
       "\n",
       "    .dataframe tbody tr th {\n",
       "        vertical-align: top;\n",
       "    }\n",
       "\n",
       "    .dataframe thead th {\n",
       "        text-align: right;\n",
       "    }\n",
       "</style>\n",
       "<table border=\"1\" class=\"dataframe\">\n",
       "  <thead>\n",
       "    <tr style=\"text-align: right;\">\n",
       "      <th></th>\n",
       "      <th>Number</th>\n",
       "    </tr>\n",
       "  </thead>\n",
       "  <tbody>\n",
       "    <tr>\n",
       "      <th>a</th>\n",
       "      <td>10</td>\n",
       "    </tr>\n",
       "    <tr>\n",
       "      <th>b</th>\n",
       "      <td>100</td>\n",
       "    </tr>\n",
       "    <tr>\n",
       "      <th>c</th>\n",
       "      <td>300</td>\n",
       "    </tr>\n",
       "  </tbody>\n",
       "</table>\n",
       "</div>"
      ],
      "text/plain": [
       "   Number\n",
       "a      10\n",
       "b     100\n",
       "c     300"
      ]
     },
     "execution_count": 9,
     "metadata": {},
     "output_type": "execute_result"
    }
   ],
   "source": [
    "import pandas as pd\n",
    "\n",
    "num = [10,100,300]\n",
    "df=pd.DataFrame(num)\n",
    "df=pd.DataFrame(num, index=['a','b','c'],\n",
    "columns=[\"Number\"])\n",
    "df\n"
   ]
  },
  {
   "cell_type": "markdown",
   "id": "f0e82462",
   "metadata": {},
   "source": [
    "17. Change the value of a key in a given dictionary.\n",
    "Write a Python program to change ‘age’ to 28 in the following dictionary.\n",
    "Dict = { \"name\": \"Shakil\", \"age\":27, \"city\": “Berlin”, \"country\": \"Germany\" "
   ]
  },
  {
   "cell_type": "code",
   "execution_count": 10,
   "id": "9f4f5338",
   "metadata": {},
   "outputs": [
    {
     "name": "stdout",
     "output_type": "stream",
     "text": [
      "{'Name': 'Shakil', 'Age': 28, 'City': 'Berlin', 'Country': 'Germany'}\n"
     ]
    }
   ],
   "source": [
    "change_info = {\n",
    "    \"Name\": \"Shakil\",\n",
    "    \"Age\" : 27,\n",
    "    \"City\": \"Berlin\",\n",
    "    \"Country\": \"Germany\"\n",
    "}\n",
    "\n",
    "change_info[\"Age\"] = 28\n",
    "\n",
    "print(change_info)\n"
   ]
  },
  {
   "cell_type": "code",
   "execution_count": null,
   "id": "2d853543",
   "metadata": {},
   "outputs": [],
   "source": []
  }
 ],
 "metadata": {
  "kernelspec": {
   "display_name": "Python 3 (ipykernel)",
   "language": "python",
   "name": "python3"
  },
  "language_info": {
   "codemirror_mode": {
    "name": "ipython",
    "version": 3
   },
   "file_extension": ".py",
   "mimetype": "text/x-python",
   "name": "python",
   "nbconvert_exporter": "python",
   "pygments_lexer": "ipython3",
   "version": "3.11.3"
  }
 },
 "nbformat": 4,
 "nbformat_minor": 5
}
